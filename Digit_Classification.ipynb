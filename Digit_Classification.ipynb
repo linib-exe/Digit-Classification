{
  "nbformat": 4,
  "nbformat_minor": 0,
  "metadata": {
    "colab": {
      "provenance": []
    },
    "kernelspec": {
      "name": "python3",
      "display_name": "Python 3"
    },
    "language_info": {
      "name": "python"
    }
  },
  "cells": [
    {
      "cell_type": "code",
      "execution_count": 2,
      "metadata": {
        "id": "SOOQIaZW9Oxs"
      },
      "outputs": [],
      "source": [
        "# pip install numpy matplotlib tensorflow"
      ]
    },
    {
      "cell_type": "code",
      "source": [
        "import numpy as np\n",
        "import matplotlib.pyplot as plt\n",
        "from tensorflow.keras.datasets import mnist\n",
        "from tensorflow.keras.models import Sequential\n",
        "from tensorflow.keras.layers import Dense, Flatten\n",
        "from tensorflow.keras.utils import to_categorical"
      ],
      "metadata": {
        "id": "zwGebuyT9aPz"
      },
      "execution_count": 3,
      "outputs": []
    },
    {
      "cell_type": "code",
      "source": [
        "(train_images, train_labels), (test_images, test_labels) = mnist.load_data()"
      ],
      "metadata": {
        "id": "Ri4Hifcz9h9m"
      },
      "execution_count": 4,
      "outputs": []
    },
    {
      "cell_type": "code",
      "source": [
        "print(f'Training data shape: {train_images.shape}')\n",
        "print(f'Test data shape: {test_images.shape}')\n",
        "plt.imshow(train_images[0], cmap='gray')\n",
        "plt.title(f'Label: {train_labels[0]}')\n",
        "plt.show()"
      ],
      "metadata": {
        "colab": {
          "base_uri": "https://localhost:8080/",
          "height": 486
        },
        "id": "nlHa79Bh9k1A",
        "outputId": "6bc2cc3e-5219-4316-ea5b-af1c909abb88"
      },
      "execution_count": 5,
      "outputs": [
        {
          "output_type": "stream",
          "name": "stdout",
          "text": [
            "Training data shape: (60000, 28, 28)\n",
            "Test data shape: (10000, 28, 28)\n"
          ]
        },
        {
          "output_type": "display_data",
          "data": {
            "text/plain": [
              "<Figure size 640x480 with 1 Axes>"
            ],
            "image/png": "[encoded data removed]"
          },
          "metadata": {}
        }
      ]
    },
    {
      "cell_type": "code",
      "source": [
        "train_images = train_images / 255.0\n",
        "test_images = test_images / 255.0"
      ],
      "metadata": {
        "id": "MYIbXdkA9oGO"
      },
      "execution_count": 6,
      "outputs": []
    },
    {
      "cell_type": "code",
      "source": [
        "train_labels = to_categorical(train_labels, 10)\n",
        "test_labels = to_categorical(test_labels, 10)"
      ],
      "metadata": {
        "id": "_ig3h0ow9smF"
      },
      "execution_count": 7,
      "outputs": []
    },
    {
      "cell_type": "code",
      "source": [
        "model = Sequential([\n",
        "    Flatten(input_shape=(28, 28)),  # Flattens the 28x28 image to a 784-element array\n",
        "    Dense(128, activation='relu'),  # Hidden layer with 128 neurons and ReLU activation\n",
        "    Dense(10, activation='softmax') # Output layer with 10 neurons for 10 digit classes\n",
        "])"
      ],
      "metadata": {
        "colab": {
          "base_uri": "https://localhost:8080/"
        },
        "id": "gK0NTX_r9vhe",
        "outputId": "83046313-61d9-4e5f-be9f-aa66e21baeb8"
      },
      "execution_count": 8,
      "outputs": [
        {
          "output_type": "stream",
          "name": "stderr",
          "text": [
            "/usr/local/lib/python3.10/dist-packages/keras/src/layers/reshaping/flatten.py:37: UserWarning: Do not pass an `input_shape`/`input_dim` argument to a layer. When using Sequential models, prefer using an `Input(shape)` object as the first layer in the model instead.\n",
            "  super().__init__(**kwargs)\n"
          ]
        }
      ]
    },
    {
      "cell_type": "code",
      "source": [
        "model.compile(optimizer='adam',\n",
        "              loss='categorical_crossentropy',\n",
        "              metrics=['accuracy'])"
      ],
      "metadata": {
        "id": "d-vpCOqh9yV3"
      },
      "execution_count": 9,
      "outputs": []
    },
    {
      "cell_type": "code",
      "source": [
        "history = model.fit(train_images, train_labels,\n",
        "                    epochs=10,\n",
        "                    batch_size=32,\n",
        "                    validation_split=0.2)"
      ],
      "metadata": {
        "colab": {
          "base_uri": "https://localhost:8080/"
        },
        "id": "Ddm7l2bT91CW",
        "outputId": "68e19849-d768-41e7-ccca-d6522f888abf"
      },
      "execution_count": 10,
      "outputs": [
        {
          "output_type": "stream",
          "name": "stdout",
          "text": [
            "Epoch 1/10\n",
            "\u001b[1m1500/1500\u001b[0m \u001b[32m━━━━━━━━━━━━━━━━━━━━\u001b[0m\u001b[37m\u001b[0m \u001b[1m6s\u001b[0m 3ms/step - accuracy: 0.8610 - loss: 0.4909 - val_accuracy: 0.9547 - val_loss: 0.1570\n",
            "Epoch 2/10\n",
            "\u001b[1m1500/1500\u001b[0m \u001b[32m━━━━━━━━━━━━━━━━━━━━\u001b[0m\u001b[37m\u001b[0m \u001b[1m7s\u001b[0m 4ms/step - accuracy: 0.9588 - loss: 0.1418 - val_accuracy: 0.9663 - val_loss: 0.1138\n",
            "Epoch 3/10\n",
            "\u001b[1m1500/1500\u001b[0m \u001b[32m━━━━━━━━━━━━━━━━━━━━\u001b[0m\u001b[37m\u001b[0m \u001b[1m8s\u001b[0m 3ms/step - accuracy: 0.9734 - loss: 0.0891 - val_accuracy: 0.9690 - val_loss: 0.1062\n",
            "Epoch 4/10\n",
            "\u001b[1m1500/1500\u001b[0m \u001b[32m━━━━━━━━━━━━━━━━━━━━\u001b[0m\u001b[37m\u001b[0m \u001b[1m7s\u001b[0m 5ms/step - accuracy: 0.9794 - loss: 0.0677 - val_accuracy: 0.9728 - val_loss: 0.0918\n",
            "Epoch 5/10\n",
            "\u001b[1m1500/1500\u001b[0m \u001b[32m━━━━━━━━━━━━━━━━━━━━\u001b[0m\u001b[37m\u001b[0m \u001b[1m5s\u001b[0m 3ms/step - accuracy: 0.9848 - loss: 0.0505 - val_accuracy: 0.9758 - val_loss: 0.0897\n",
            "Epoch 6/10\n",
            "\u001b[1m1500/1500\u001b[0m \u001b[32m━━━━━━━━━━━━━━━━━━━━\u001b[0m\u001b[37m\u001b[0m \u001b[1m10s\u001b[0m 7ms/step - accuracy: 0.9888 - loss: 0.0375 - val_accuracy: 0.9751 - val_loss: 0.0888\n",
            "Epoch 7/10\n",
            "\u001b[1m1500/1500\u001b[0m \u001b[32m━━━━━━━━━━━━━━━━━━━━\u001b[0m\u001b[37m\u001b[0m \u001b[1m5s\u001b[0m 3ms/step - accuracy: 0.9915 - loss: 0.0281 - val_accuracy: 0.9754 - val_loss: 0.0845\n",
            "Epoch 8/10\n",
            "\u001b[1m1500/1500\u001b[0m \u001b[32m━━━━━━━━━━━━━━━━━━━━\u001b[0m\u001b[37m\u001b[0m \u001b[1m5s\u001b[0m 3ms/step - accuracy: 0.9941 - loss: 0.0213 - val_accuracy: 0.9747 - val_loss: 0.0912\n",
            "Epoch 9/10\n",
            "\u001b[1m1500/1500\u001b[0m \u001b[32m━━━━━━━━━━━━━━━━━━━━\u001b[0m\u001b[37m\u001b[0m \u001b[1m6s\u001b[0m 4ms/step - accuracy: 0.9956 - loss: 0.0161 - val_accuracy: 0.9728 - val_loss: 0.0961\n",
            "Epoch 10/10\n",
            "\u001b[1m1500/1500\u001b[0m \u001b[32m━━━━━━━━━━━━━━━━━━━━\u001b[0m\u001b[37m\u001b[0m \u001b[1m11s\u001b[0m 4ms/step - accuracy: 0.9947 - loss: 0.0162 - val_accuracy: 0.9747 - val_loss: 0.0910\n"
          ]
        }
      ]
    },
    {
      "cell_type": "code",
      "source": [
        "test_loss, test_acc = model.evaluate(test_images, test_labels)\n",
        "print(f'Test accuracy: {test_acc}')"
      ],
      "metadata": {
        "colab": {
          "base_uri": "https://localhost:8080/"
        },
        "id": "c8saL7CM93lt",
        "outputId": "3822a8b5-c2ad-47c9-a187-ed0f3178a29b"
      },
      "execution_count": 11,
      "outputs": [
        {
          "output_type": "stream",
          "name": "stdout",
          "text": [
            "\u001b[1m313/313\u001b[0m \u001b[32m━━━━━━━━━━━━━━━━━━━━\u001b[0m\u001b[37m\u001b[0m \u001b[1m1s\u001b[0m 1ms/step - accuracy: 0.9719 - loss: 0.1022\n",
            "Test accuracy: 0.9757000207901001\n"
          ]
        }
      ]
    },
    {
      "cell_type": "code",
      "source": [
        "predictions = model.predict(test_images)\n",
        "print(np.argmax(predictions[0])) # Shows the predicted class for the first test image"
      ],
      "metadata": {
        "colab": {
          "base_uri": "https://localhost:8080/"
        },
        "id": "GoVis0eg98Hg",
        "outputId": "7d488d21-f150-4132-cd89-9bb5dc524a63"
      },
      "execution_count": 12,
      "outputs": [
        {
          "output_type": "stream",
          "name": "stdout",
          "text": [
            "\u001b[1m313/313\u001b[0m \u001b[32m━━━━━━━━━━━━━━━━━━━━\u001b[0m\u001b[37m\u001b[0m \u001b[1m1s\u001b[0m 2ms/step\n",
            "7\n"
          ]
        }
      ]
    },
    {
      "cell_type": "code",
      "source": [
        "plt.figure(figsize=(10, 5))\n",
        "for i in range(10):\n",
        "    plt.subplot(2, 5, i+1)\n",
        "    plt.imshow(test_images[i], cmap='gray')\n",
        "    plt.title(f'Predicted: {np.argmax(predictions[i])}')\n",
        "    plt.axis('off')\n",
        "plt.show()"
      ],
      "metadata": {
        "colab": {
          "base_uri": "https://localhost:8080/",
          "height": 402
        },
        "id": "wwYqZuCx9-fv",
        "outputId": "91018b43-a001-42fe-e5b1-6cbc9cea1ea1"
      },
      "execution_count": 13,
      "outputs": [
        {
          "output_type": "display_data",
          "data": {
            "text/plain": [
              "<Figure size 1000x500 with 10 Axes>"
            ],
            "image/png": "[encoded data removed]"
          },
          "metadata": {}
        }
      ]
    },
    {
      "cell_type": "code",
      "source": [
        "from PIL import Image\n",
        "import numpy as np\n",
        "from PIL import ImageOps\n",
        "\n",
        "def binarize_image(image):\n",
        "    # Convert image to binary (black and white)\n",
        "    threshold = 120  # Can be adjusted if needed\n",
        "    img = image.point(lambda p: p > threshold and 255)\n",
        "    return img\n",
        "\n",
        "def invert_colors(img_array):\n",
        "    # Invert pixel values\n",
        "    img_array = np.invert(img_array)\n",
        "    return img_array\n",
        "\n",
        "def add_padding(img_array, padding=4):\n",
        "    # Add padding around the image\n",
        "    img_padded = np.pad(img_array, pad_width=padding, mode='constant', constant_values=0)\n",
        "    return img_padded\n",
        "\n",
        "def preprocess_image(image_path):\n",
        "    # Open the image file\n",
        "    img = Image.open(image_path).convert('L')  # Convert to grayscale\n",
        "    img = ImageOps.invert(img)  # Invert colors (optional)\n",
        "\n",
        "    # Binarize and normalize the image\n",
        "    img = binarize_image(img)\n",
        "    img = np.array(img) / 255.0  # Convert to a NumPy array and normalize pixel values to [0, 1]\n",
        "\n",
        "    # Resize to 28x28 pixels if needed\n",
        "    img = Image.fromarray(img).resize((28, 28))\n",
        "\n",
        "    # Convert the resized image back to a NumPy array\n",
        "    img = np.array(img)\n",
        "\n",
        "    # Reshape the array to add batch dimension (1, 28, 28)\n",
        "    img = img.reshape(1, 28, 28)\n",
        "    return img\n",
        "\n"
      ],
      "metadata": {
        "id": "dVW3CF6NAhBi"
      },
      "execution_count": 14,
      "outputs": []
    },
    {
      "cell_type": "code",
      "source": [
        "import matplotlib.pyplot as plt\n",
        "# Provide the path to your image file\n",
        "image_path = '/content/IMG_1602.jpeg'\n",
        "processed_image = preprocess_image(image_path)\n",
        "prediction = model.predict(processed_image)\n",
        "predicted_digit = np.argmax(prediction)\n",
        "print(f'Predicted Digit: {predicted_digit}')\n",
        "\n",
        "plt.imshow(processed_image.reshape(28, 28), cmap='gray')\n",
        "plt.title(f'Predicted: {predicted_digit}')\n",
        "plt.axis('off')\n",
        "plt.show()"
      ],
      "metadata": {
        "colab": {
          "base_uri": "https://localhost:8080/",
          "height": 462
        },
        "id": "TWq7ZQbVApSC",
        "outputId": "e689911a-1764-4992-a0e9-083c2f8612c5"
      },
      "execution_count": 24,
      "outputs": [
        {
          "output_type": "stream",
          "name": "stdout",
          "text": [
            "\u001b[1m1/1\u001b[0m \u001b[32m━━━━━━━━━━━━━━━━━━━━\u001b[0m\u001b[37m\u001b[0m \u001b[1m0s\u001b[0m 33ms/step\n",
            "Predicted Digit: 9\n"
          ]
        },
        {
          "output_type": "display_data",
          "data": {
            "text/plain": [
              "<Figure size 640x480 with 1 Axes>"
            ],
            "image/png": "[encoded data removed]"
          },
          "metadata": {}
        }
      ]
    },
    {
      "cell_type": "code",
      "source": [],
      "metadata": {
        "id": "9WG42cCOA6Xq"
      },
      "execution_count": 15,
      "outputs": []
    }
  ]
}